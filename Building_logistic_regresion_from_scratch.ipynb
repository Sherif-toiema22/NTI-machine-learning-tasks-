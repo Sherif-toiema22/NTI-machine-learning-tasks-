{
  "nbformat": 4,
  "nbformat_minor": 0,
  "metadata": {
    "colab": {
      "provenance": [],
      "authorship_tag": "ABX9TyMc6bvGj3hFu0+CE8L57Khv",
      "include_colab_link": true
    },
    "kernelspec": {
      "name": "python3",
      "display_name": "Python 3"
    },
    "language_info": {
      "name": "python"
    }
  },
  "cells": [
    {
      "cell_type": "markdown",
      "metadata": {
        "id": "view-in-github",
        "colab_type": "text"
      },
      "source": [
        "<a href=\"https://colab.research.google.com/github/Sherif-toiema22/NTI-machine-learning-tasks-/blob/main/Building_logistic_regresion_from_scratch.ipynb\" target=\"_parent\"><img src=\"https://colab.research.google.com/assets/colab-badge.svg\" alt=\"Open In Colab\"/></a>"
      ]
    },
    {
      "cell_type": "code",
      "execution_count": 1,
      "metadata": {
        "id": "oJ6-o6QH31Xg"
      },
      "outputs": [],
      "source": [
        "import numpy as np\n",
        "import matplotlib.pyplot as plt\n",
        "\n",
        "def sigmoid(z):\n",
        "    return 1 / (1 + np.exp(-z))\n"
      ]
    },
    {
      "cell_type": "code",
      "source": [
        "def compute_loss(y, y_pred):\n",
        "    m = len(y)\n",
        "    loss = -1/m * (np.dot(y, np.log(y_pred)) + np.dot((1 - y), np.log(1 - y_pred)))\n",
        "    return loss\n"
      ],
      "metadata": {
        "id": "eWodQKofs4Mm"
      },
      "execution_count": 2,
      "outputs": []
    },
    {
      "cell_type": "code",
      "source": [
        "def compute_gradients(X, y, y_pred):\n",
        "    m = len(y)\n",
        "    dw = 1/m * np.dot(X.T, (y_pred - y))\n",
        "    db = 1/m * np.sum(y_pred - y)\n",
        "    return dw, db\n",
        "\n",
        "def gradient_descent(X, y, learning_rate, num_iterations):\n",
        "    m, n = X.shape\n",
        "    w = np.zeros(n)\n",
        "    b = 0\n",
        "    losses = []\n",
        "\n",
        "    for i in range(num_iterations):\n",
        "        z = np.dot(X, w) + b\n",
        "        y_pred = sigmoid(z)\n",
        "        loss = compute_loss(y, y_pred)\n",
        "        dw, db = compute_gradients(X, y, y_pred)\n",
        "\n",
        "        w -= learning_rate * dw\n",
        "        b -= learning_rate * db\n",
        "\n",
        "        losses.append(loss)\n",
        "\n",
        "        if i % 100 == 0:\n",
        "            print(f'Iteration {i}, Loss: {loss}')\n",
        "\n",
        "    return w, b, losses\n"
      ],
      "metadata": {
        "id": "PQhIx2MPti89"
      },
      "execution_count": 3,
      "outputs": []
    },
    {
      "cell_type": "code",
      "source": [
        "def predict(X, w, b):\n",
        "    z = np.dot(X, w) + b\n",
        "    y_pred = sigmoid(z)\n",
        "    return [1 if i > 0.5 else 0 for i in y_pred]\n"
      ],
      "metadata": {
        "id": "4qWM6Z2euRIW"
      },
      "execution_count": 4,
      "outputs": []
    },
    {
      "cell_type": "code",
      "source": [
        "from sklearn.datasets import load_iris\n",
        "from sklearn.model_selection import train_test_split\n",
        "from sklearn.preprocessing import StandardScaler\n",
        "from sklearn.metrics import accuracy_score\n",
        "\n",
        "# Load dataset and prepare for binary classification (Iris-Virginica vs. others)\n",
        "iris = load_iris()\n",
        "X = iris.data\n",
        "y = (iris.target == 2).astype(int)  # Binary classification: 1 if Iris-Virginica, else 0\n",
        "\n",
        "# Split the data into training and testing sets\n",
        "X_train, X_test, y_train, y_test = train_test_split(X, y, test_size=0.3, random_state=42)\n",
        "\n",
        "# Standardize the features\n",
        "scaler = StandardScaler()\n",
        "X_train = scaler.fit_transform(X_train)\n",
        "X_test = scaler.transform(X_test)\n",
        "\n",
        "# Train the logistic regression model\n",
        "learning_rate = 0.01\n",
        "num_iterations = 1000\n",
        "w, b, losses = gradient_descent(X_train, y_train, learning_rate, num_iterations)\n",
        "\n",
        "# Plot the loss curve\n",
        "plt.plot(losses)\n",
        "plt.xlabel('Iteration')\n",
        "plt.ylabel('Loss')\n",
        "plt.title('Loss Curve')\n",
        "plt.show()\n",
        "\n",
        "# Make predictions on the test set\n",
        "y_pred = predict(X_test, w, b)\n",
        "\n",
        "# Evaluate the model\n",
        "accuracy = accuracy_score(y_test, y_pred)\n",
        "print(f'Accuracy: {accuracy:.2f}')\n"
      ],
      "metadata": {
        "colab": {
          "base_uri": "https://localhost:8080/",
          "height": 667
        },
        "id": "cm48RSNiuXM4",
        "outputId": "7dd04d4b-f9bd-41bc-ef5f-428e99d4922b"
      },
      "execution_count": 5,
      "outputs": [
        {
          "output_type": "stream",
          "name": "stdout",
          "text": [
            "Iteration 0, Loss: 0.6931471805599453\n",
            "Iteration 100, Loss: 0.48320935899098855\n",
            "Iteration 200, Loss: 0.4065060347929228\n",
            "Iteration 300, Loss: 0.3666660923430565\n",
            "Iteration 400, Loss: 0.34125050709842786\n",
            "Iteration 500, Loss: 0.32304144134934204\n",
            "Iteration 600, Loss: 0.30904327269554616\n",
            "Iteration 700, Loss: 0.2977707013725296\n",
            "Iteration 800, Loss: 0.288389013732355\n",
            "Iteration 900, Loss: 0.28038513749304694\n"
          ]
        },
        {
          "output_type": "display_data",
          "data": {
            "text/plain": [
              "<Figure size 640x480 with 1 Axes>"
            ],
            "image/png": "[encoded data removed]"
          },
          "metadata": {}
        },
        {
          "output_type": "stream",
          "name": "stdout",
          "text": [
            "Accuracy: 0.87\n"
          ]
        }
      ]
    }
  ]
}