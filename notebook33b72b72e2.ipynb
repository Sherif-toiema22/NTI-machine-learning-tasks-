{
  "metadata": {
    "kernelspec": {
      "language": "python",
      "display_name": "Python 3",
      "name": "python3"
    },
    "language_info": {
      "pygments_lexer": "ipython3",
      "nbconvert_exporter": "python",
      "version": "3.6.4",
      "file_extension": ".py",
      "codemirror_mode": {
        "name": "ipython",
        "version": 3
      },
      "name": "python",
      "mimetype": "text/x-python"
    },
    "kaggle": {
      "accelerator": "none",
      "dataSources": [
        {
          "sourceId": 37484,
          "sourceType": "datasetVersion",
          "datasetId": 29414
        }
      ],
      "isInternetEnabled": false,
      "language": "python",
      "sourceType": "notebook",
      "isGpuEnabled": false
    },
    "colab": {
      "name": "notebook33b72b72e2",
      "provenance": [],
      "include_colab_link": true
    }
  },
  "nbformat_minor": 0,
  "nbformat": 4,
  "cells": [
    {
      "cell_type": "markdown",
      "metadata": {
        "id": "view-in-github",
        "colab_type": "text"
      },
      "source": [
        "<a href=\"https://colab.research.google.com/github/Sherif-toiema22/NTI-machine-learning-tasks-/blob/main/notebook33b72b72e2.ipynb\" target=\"_parent\"><img src=\"https://colab.research.google.com/assets/colab-badge.svg\" alt=\"Open In Colab\"/></a>"
      ]
    },
    {
      "source": [
        "\n",
        "# IMPORTANT: RUN THIS CELL IN ORDER TO IMPORT YOUR KAGGLE DATA SOURCES\n",
        "# TO THE CORRECT LOCATION (/kaggle/input) IN YOUR NOTEBOOK,\n",
        "# THEN FEEL FREE TO DELETE THIS CELL.\n",
        "# NOTE: THIS NOTEBOOK ENVIRONMENT DIFFERS FROM KAGGLE'S PYTHON\n",
        "# ENVIRONMENT SO THERE MAY BE MISSING LIBRARIES USED BY YOUR\n",
        "# NOTEBOOK.\n",
        "\n",
        "import os\n",
        "import sys\n",
        "from tempfile import NamedTemporaryFile\n",
        "from urllib.request import urlopen\n",
        "from urllib.parse import unquote, urlparse\n",
        "from urllib.error import HTTPError\n",
        "from zipfile import ZipFile\n",
        "import tarfile\n",
        "import shutil\n",
        "\n",
        "CHUNK_SIZE = 40960\n",
        "DATA_SOURCE_MAPPING = 'heartbeat:https%3A%2F%2Fstorage.googleapis.com%2Fkaggle-data-sets%2F29414%2F37484%2Fbundle%2Farchive.zip%3FX-Goog-Algorithm%3DGOOG4-RSA-SHA256%26X-Goog-Credential%3Dgcp-kaggle-com%2540kaggle-161607.iam.gserviceaccount.com%252F20240721%252Fauto%252Fstorage%252Fgoog4_request%26X-Goog-Date%3D20240721T081418Z%26X-Goog-Expires%3D259200%26X-Goog-SignedHeaders%3Dhost%26X-Goog-Signature%3D3fda45d07edb7e9fca6e1f59471325a8b0e2563bf548098c0707f4d3d8baea45db9bc8df9209e5a61f9b88c8577ba8e388a637025e64497c1822f89816c2aeb1dfa5b54b8ecaa07569dd2fe5445ab042e3a63f45ab4687600aa2d10f1a12cf8e6991aa250d31c29ce1bed6b6a0a3b98bb6d6689ba36a37e37fb7da5dff63eb5f5ffd1cb3eddd7f0fdaa11d802edb846547fe218c990021023062c16599a3c9221434519c890ee8e0eb26ccac6efb3baa56cfac6d0255baa96839097cb96146304d0884849bf37a7d78dc7bd5c76b9990935863801ef914280e951337b55a3b730f63d8a60a57a210cc797eecdd49d1466bec073b0771cd0887eedefaf4803a18'\n",
        "\n",
        "KAGGLE_INPUT_PATH='/kaggle/input'\n",
        "KAGGLE_WORKING_PATH='/kaggle/working'\n",
        "KAGGLE_SYMLINK='kaggle'\n",
        "\n",
        "!umount /kaggle/input/ 2> /dev/null\n",
        "shutil.rmtree('/kaggle/input', ignore_errors=True)\n",
        "os.makedirs(KAGGLE_INPUT_PATH, 0o777, exist_ok=True)\n",
        "os.makedirs(KAGGLE_WORKING_PATH, 0o777, exist_ok=True)\n",
        "\n",
        "try:\n",
        "  os.symlink(KAGGLE_INPUT_PATH, os.path.join(\"..\", 'input'), target_is_directory=True)\n",
        "except FileExistsError:\n",
        "  pass\n",
        "try:\n",
        "  os.symlink(KAGGLE_WORKING_PATH, os.path.join(\"..\", 'working'), target_is_directory=True)\n",
        "except FileExistsError:\n",
        "  pass\n",
        "\n",
        "for data_source_mapping in DATA_SOURCE_MAPPING.split(','):\n",
        "    directory, download_url_encoded = data_source_mapping.split(':')\n",
        "    download_url = unquote(download_url_encoded)\n",
        "    filename = urlparse(download_url).path\n",
        "    destination_path = os.path.join(KAGGLE_INPUT_PATH, directory)\n",
        "    try:\n",
        "        with urlopen(download_url) as fileres, NamedTemporaryFile() as tfile:\n",
        "            total_length = fileres.headers['content-length']\n",
        "            print(f'Downloading {directory}, {total_length} bytes compressed')\n",
        "            dl = 0\n",
        "            data = fileres.read(CHUNK_SIZE)\n",
        "            while len(data) > 0:\n",
        "                dl += len(data)\n",
        "                tfile.write(data)\n",
        "                done = int(50 * dl / int(total_length))\n",
        "                sys.stdout.write(f\"\\r[{'=' * done}{' ' * (50-done)}] {dl} bytes downloaded\")\n",
        "                sys.stdout.flush()\n",
        "                data = fileres.read(CHUNK_SIZE)\n",
        "            if filename.endswith('.zip'):\n",
        "              with ZipFile(tfile) as zfile:\n",
        "                zfile.extractall(destination_path)\n",
        "            else:\n",
        "              with tarfile.open(tfile.name) as tarfile:\n",
        "                tarfile.extractall(destination_path)\n",
        "            print(f'\\nDownloaded and uncompressed: {directory}')\n",
        "    except HTTPError as e:\n",
        "        print(f'Failed to load (likely expired) {download_url} to path {destination_path}')\n",
        "        continue\n",
        "    except OSError as e:\n",
        "        print(f'Failed to load {download_url} to path {destination_path}')\n",
        "        continue\n",
        "\n",
        "print('Data source import complete.')\n"
      ],
      "metadata": {
        "id": "x5e2fDZlWyZH",
        "outputId": "e7f81fde-d8ad-400e-f7f0-6af9ec58f97f",
        "colab": {
          "base_uri": "https://localhost:8080/"
        }
      },
      "cell_type": "code",
      "outputs": [
        {
          "output_type": "stream",
          "name": "stdout",
          "text": [
            "Downloading heartbeat, 103633768 bytes compressed\n",
            "[==================================================] 103633768 bytes downloaded\n",
            "Downloaded and uncompressed: heartbeat\n",
            "Data source import complete.\n"
          ]
        }
      ],
      "execution_count": 1
    },
    {
      "cell_type": "code",
      "source": [],
      "metadata": {
        "id": "r-J9wQu8W2V0"
      },
      "execution_count": null,
      "outputs": []
    },
    {
      "cell_type": "code",
      "source": [
        "# This Python 3 environment comes with many helpful analytics libraries installed\n",
        "# It is defined by the kaggle/python Docker image: https://github.com/kaggle/docker-python\n",
        "# For example, here's several helpful packages to load\n",
        "\n",
        "import numpy as np # linear algebra\n",
        "import pandas as pd # data processing, CSV file I/O (e.g. pd.read_csv)\n",
        "\n",
        "# Input data files are available in the read-only \"../input/\" directory\n",
        "# For example, running this (by clicking run or pressing Shift+Enter) will list all files under the input directory\n",
        "\n",
        "import os\n",
        "for dirname, _, filenames in os.walk('/kaggle/input'):\n",
        "    for filename in filenames:\n",
        "        print(os.path.join(dirname, filename))\n",
        "\n",
        "# You can write up to 20GB to the current directory (/kaggle/working/) that gets preserved as output when you create a version using \"Save & Run All\"\n",
        "# You can also write temporary files to /kaggle/temp/, but they won't be saved outside of the current session"
      ],
      "metadata": {
        "_uuid": "8f2839f25d086af736a60e9eeb907d3b93b6e0e5",
        "_cell_guid": "b1076dfc-b9ad-4769-8c92-a6c4dae69d19",
        "trusted": true,
        "id": "zSi_cB1bWyZN",
        "outputId": "2cf8232a-12ea-4329-f791-0fd801171eea",
        "colab": {
          "base_uri": "https://localhost:8080/"
        }
      },
      "execution_count": 2,
      "outputs": [
        {
          "output_type": "stream",
          "name": "stdout",
          "text": [
            "/kaggle/input/heartbeat/ptbdb_normal.csv\n",
            "/kaggle/input/heartbeat/mitbih_train.csv\n",
            "/kaggle/input/heartbeat/ptbdb_abnormal.csv\n",
            "/kaggle/input/heartbeat/mitbih_test.csv\n"
          ]
        }
      ]
    },
    {
      "cell_type": "code",
      "source": [
        "import numpy as np\n",
        "import pandas as pd\n",
        "import matplotlib.pyplot as plt\n",
        "import seaborn as sns"
      ],
      "metadata": {
        "id": "WbDmTmMtW398"
      },
      "execution_count": 9,
      "outputs": []
    },
    {
      "cell_type": "code",
      "source": [
        "train_df=pd.read_csv('/kaggle/input/heartbeat/mitbih_train.csv',header=None)\n",
        "test_df=pd.read_csv('/kaggle/input/heartbeat/mitbih_test.csv',header=None)"
      ],
      "metadata": {
        "id": "yXhEN549XUaj"
      },
      "execution_count": 10,
      "outputs": []
    },
    {
      "cell_type": "code",
      "source": [
        "train_df.shape, test_df.shape"
      ],
      "metadata": {
        "id": "mdYfUIWlXaA5",
        "outputId": "ca138c26-7e89-40c1-9e21-aff63c000ff7",
        "colab": {
          "base_uri": "https://localhost:8080/"
        }
      },
      "execution_count": 5,
      "outputs": [
        {
          "output_type": "execute_result",
          "data": {
            "text/plain": [
              "((87554, 188), (21892, 188))"
            ]
          },
          "metadata": {},
          "execution_count": 5
        }
      ]
    },
    {
      "cell_type": "code",
      "source": [
        "\n",
        "\n",
        "print(train_df.isnull().sum())\n",
        "print(test_df.isnull().sum())\n",
        "\n"
      ],
      "metadata": {
        "id": "DO9aoFIpXeCi",
        "outputId": "1560d94b-6f9b-4077-fa71-45b35c2b8ec1",
        "colab": {
          "base_uri": "https://localhost:8080/"
        }
      },
      "execution_count": 11,
      "outputs": [
        {
          "output_type": "stream",
          "name": "stdout",
          "text": [
            "0      0\n",
            "1      0\n",
            "2      0\n",
            "3      0\n",
            "4      0\n",
            "      ..\n",
            "183    0\n",
            "184    0\n",
            "185    0\n",
            "186    0\n",
            "187    0\n",
            "Length: 188, dtype: int64\n",
            "0      0\n",
            "1      0\n",
            "2      0\n",
            "3      0\n",
            "4      0\n",
            "      ..\n",
            "183    0\n",
            "184    0\n",
            "185    0\n",
            "186    0\n",
            "187    0\n",
            "Length: 188, dtype: int64\n"
          ]
        }
      ]
    },
    {
      "cell_type": "code",
      "source": [
        "train_df[187].astype(int).value_counts()"
      ],
      "metadata": {
        "id": "2RvR5cEjXiw2",
        "outputId": "7af8d8bc-7687-4fd9-8646-8c358121add8",
        "colab": {
          "base_uri": "https://localhost:8080/"
        }
      },
      "execution_count": 7,
      "outputs": [
        {
          "output_type": "execute_result",
          "data": {
            "text/plain": [
              "187\n",
              "0    72471\n",
              "4     6431\n",
              "2     5788\n",
              "1     2223\n",
              "3      641\n",
              "Name: count, dtype: int64"
            ]
          },
          "metadata": {},
          "execution_count": 7
        }
      ]
    },
    {
      "cell_type": "code",
      "source": [
        "train_df[187].unique()"
      ],
      "metadata": {
        "id": "4K8FRqIAXm02",
        "outputId": "54ef82eb-469c-4780-d5ed-56aaaad15be0",
        "colab": {
          "base_uri": "https://localhost:8080/"
        }
      },
      "execution_count": 12,
      "outputs": [
        {
          "output_type": "execute_result",
          "data": {
            "text/plain": [
              "array([0., 1., 2., 3., 4.])"
            ]
          },
          "metadata": {},
          "execution_count": 12
        }
      ]
    },
    {
      "cell_type": "code",
      "source": [
        "class_mapping = {\n",
        "    0: \"Normal beats\",\n",
        "    1: \"Supraventrical ectopic beats\",\n",
        "    2: \"Ventricular ectopic beats\",\n",
        "    3: \"Fusion beats\",\n",
        "    4: \"Unknown beats\"\n",
        "}\n",
        "train_df[187] = train_df[187].map(class_mapping)\n",
        "test_df[187] = test_df[187].map(class_mapping)"
      ],
      "metadata": {
        "id": "xHYqU6JwXqT8"
      },
      "execution_count": 13,
      "outputs": []
    },
    {
      "cell_type": "code",
      "source": [
        "train_df[187].value_counts()"
      ],
      "metadata": {
        "id": "7ETBNMx0XuNZ",
        "outputId": "47acedeb-d338-4044-96b4-737d7462c381",
        "colab": {
          "base_uri": "https://localhost:8080/"
        }
      },
      "execution_count": 14,
      "outputs": [
        {
          "output_type": "execute_result",
          "data": {
            "text/plain": [
              "187\n",
              "Normal beats                    72471\n",
              "Unknown beats                    6431\n",
              "Ventricular ectopic beats        5788\n",
              "Supraventrical ectopic beats     2223\n",
              "Fusion beats                      641\n",
              "Name: count, dtype: int64"
            ]
          },
          "metadata": {},
          "execution_count": 14
        }
      ]
    },
    {
      "cell_type": "code",
      "source": [
        "\n",
        "\n",
        "train_df[187].value_counts().plot(kind = 'bar', rot = 75)\n",
        "plt.show()\n",
        "train_df[187].value_counts().plot(kind = 'pie', ylabel = \"\")\n",
        "plt.show()\n",
        "\n"
      ],
      "metadata": {
        "id": "2NPbANzzXzB7",
        "outputId": "115680b4-dd55-4777-bac0-bb52f961a616",
        "colab": {
          "base_uri": "https://localhost:8080/",
          "height": 1000
        }
      },
      "execution_count": 15,
      "outputs": [
        {
          "output_type": "display_data",
          "data": {
            "text/plain": [
              "<Figure size 640x480 with 1 Axes>"
            ],
            "image/png": "[encoded data removed]"
          },
          "metadata": {}
        },
        {
          "output_type": "display_data",
          "data": {
            "text/plain": [
              "<Figure size 640x480 with 1 Axes>"
            ],
            "image/png": "[encoded data removed]"
          },
          "metadata": {}
        }
      ]
    },
    {
      "cell_type": "code",
      "source": [
        "from imblearn.over_sampling import SMOTE\n",
        "\n",
        "X_train = train_df.iloc[:, :-1]\n",
        "y_train = train_df.iloc[:, -1]\n",
        "X_test = test_df.iloc[:, :-1]\n",
        "y_test = test_df.iloc[:, -1]\n",
        "\n",
        "smote = SMOTE()\n",
        "X_train_resampled, y_train_resampled = smote.fit_resample(X_train, y_train)\n",
        "X_test_resampled, y_test_resampled = smote.fit_resample(X_test, y_test)"
      ],
      "metadata": {
        "id": "449aRJHfYDc4"
      },
      "execution_count": 16,
      "outputs": []
    },
    {
      "cell_type": "code",
      "source": [
        "y_train_resampled.value_counts(), y_test_resampled.value_counts()"
      ],
      "metadata": {
        "id": "P7wWiX_tYNW5",
        "outputId": "3eaa9e8f-b10f-4074-dd49-68d581eb610f",
        "colab": {
          "base_uri": "https://localhost:8080/"
        }
      },
      "execution_count": 17,
      "outputs": [
        {
          "output_type": "execute_result",
          "data": {
            "text/plain": [
              "(187\n",
              " Normal beats                    72471\n",
              " Supraventrical ectopic beats    72471\n",
              " Ventricular ectopic beats       72471\n",
              " Fusion beats                    72471\n",
              " Unknown beats                   72471\n",
              " Name: count, dtype: int64,\n",
              " 187\n",
              " Normal beats                    18118\n",
              " Supraventrical ectopic beats    18118\n",
              " Ventricular ectopic beats       18118\n",
              " Fusion beats                    18118\n",
              " Unknown beats                   18118\n",
              " Name: count, dtype: int64)"
            ]
          },
          "metadata": {},
          "execution_count": 17
        }
      ]
    },
    {
      "cell_type": "code",
      "source": [
        "\n",
        "\n",
        "y_train_resampled.value_counts().plot(kind = 'pie', ylabel = \"\")\n",
        "plt.show()\n",
        "\n"
      ],
      "metadata": {
        "id": "JLtkg6BvYhz2",
        "outputId": "d9a7d2fb-db0b-4a41-9d2f-fc1fde0380d8",
        "colab": {
          "base_uri": "https://localhost:8080/",
          "height": 406
        }
      },
      "execution_count": 18,
      "outputs": [
        {
          "output_type": "display_data",
          "data": {
            "text/plain": [
              "<Figure size 640x480 with 1 Axes>"
            ],
            "image/png": "[encoded data removed]"
          },
          "metadata": {}
        }
      ]
    },
    {
      "cell_type": "code",
      "source": [
        "\n",
        "\n",
        "from sklearn.metrics import classification_report, confusion_matrix, accuracy_score\n",
        "from sklearn.linear_model import LogisticRegression\n",
        "from sklearn.ensemble import RandomForestClassifier\n",
        "\n"
      ],
      "metadata": {
        "id": "04jqqVn5Yl_J"
      },
      "execution_count": 19,
      "outputs": []
    },
    {
      "cell_type": "code",
      "source": [
        "\n",
        "\n",
        "# Logistic Regression\n",
        "lr = LogisticRegression()\n",
        "lr.fit(X_train_resampled, y_train_resampled)\n",
        "print('Logistic Regression Classification Report:')\n",
        "print(classification_report(y_test_resampled, lr.predict(X_test_resampled)))\n",
        "\n"
      ],
      "metadata": {
        "id": "iWdOWEJjYs-Q",
        "outputId": "ef007ea1-bcda-4bfb-eb2f-0132002a7ef5",
        "colab": {
          "base_uri": "https://localhost:8080/"
        }
      },
      "execution_count": 20,
      "outputs": [
        {
          "output_type": "stream",
          "name": "stderr",
          "text": [
            "/usr/local/lib/python3.10/dist-packages/sklearn/linear_model/_logistic.py:458: ConvergenceWarning: lbfgs failed to converge (status=1):\n",
            "STOP: TOTAL NO. of ITERATIONS REACHED LIMIT.\n",
            "\n",
            "Increase the number of iterations (max_iter) or scale the data as shown in:\n",
            "    https://scikit-learn.org/stable/modules/preprocessing.html\n",
            "Please also refer to the documentation for alternative solver options:\n",
            "    https://scikit-learn.org/stable/modules/linear_model.html#logistic-regression\n",
            "  n_iter_i = _check_optimize_result(\n"
          ]
        },
        {
          "output_type": "stream",
          "name": "stdout",
          "text": [
            "Logistic Regression Classification Report:\n",
            "                              precision    recall  f1-score   support\n",
            "\n",
            "                Fusion beats       0.81      0.91      0.86     18118\n",
            "                Normal beats       0.61      0.63      0.62     18118\n",
            "Supraventrical ectopic beats       0.81      0.68      0.74     18118\n",
            "               Unknown beats       0.93      0.92      0.93     18118\n",
            "   Ventricular ectopic beats       0.74      0.75      0.74     18118\n",
            "\n",
            "                    accuracy                           0.78     90590\n",
            "                   macro avg       0.78      0.78      0.78     90590\n",
            "                weighted avg       0.78      0.78      0.78     90590\n",
            "\n"
          ]
        }
      ]
    },
    {
      "cell_type": "code",
      "source": [
        "rf = RandomForestClassifier(n_estimators=100,random_state=42)\n",
        "rf.fit(X_train_resampled, y_train_resampled)\n",
        "print('Random Forest Classification Report:')\n",
        "print(classification_report(y_test_resampled, rf.predict(X_test_resampled)))"
      ],
      "metadata": {
        "id": "ihQRShowZBxf"
      },
      "execution_count": null,
      "outputs": []
    },
    {
      "cell_type": "code",
      "source": [
        "print(\"LR accuracy:\", accuracy_score(y_test_resampled, lr.predict(X_test_resampled)))\n",
        "print(\"RF accuracy:\", accuracy_score(y_test_resampled, rf.predict(X_test_resampled)))"
      ],
      "metadata": {
        "id": "lBVJbM2RZhQz",
        "outputId": "9dea25b3-29ee-4725-f9e6-c8d3c8917dd7",
        "colab": {
          "base_uri": "https://localhost:8080/"
        }
      },
      "execution_count": 18,
      "outputs": [
        {
          "output_type": "stream",
          "name": "stdout",
          "text": [
            "LR accuracy: 0.78164256540457\n"
          ]
        }
      ]
    }
  ]
}